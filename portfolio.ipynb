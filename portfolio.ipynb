{
 "cells": [
  {
   "cell_type": "code",
   "execution_count": 1,
   "id": "4fb02551",
   "metadata": {},
   "outputs": [],
   "source": [
    "import pandas as pd\n",
    "from lib import create_portfolio\n",
    "import numpy as np\n",
    "import scipy.optimize as sp"
   ]
  },
  {
   "cell_type": "code",
   "execution_count": 2,
   "id": "e2547f65",
   "metadata": {},
   "outputs": [],
   "source": [
    "RISK_FREE = 0"
   ]
  },
  {
   "cell_type": "code",
   "execution_count": 3,
   "id": "ff67d6e5",
   "metadata": {},
   "outputs": [],
   "source": [
    "data = pd.read_csv(\"data.csv\", index_col=0, header=[0, 1])"
   ]
  },
  {
   "cell_type": "code",
   "execution_count": 4,
   "id": "87a4fa04",
   "metadata": {},
   "outputs": [],
   "source": [
    "# Using Daily Change in price\n",
    "log_returns = np.log(data[\"Close\"] / data[\"Close\"].shift(1))\n",
    "\n",
    "# Create Co-variance table\n",
    "covariance_table = log_returns.cov() * np.sqrt(252)"
   ]
  },
  {
   "cell_type": "code",
   "execution_count": 5,
   "id": "ae9f8d2c",
   "metadata": {},
   "outputs": [
    {
     "name": "stderr",
     "output_type": "stream",
     "text": [
      "c:\\Users\\olive\\Documents\\GitHub\\Modern-Portfolio-Theory\\.venv\\Lib\\site-packages\\numpy\\_core\\fromnumeric.py:84: FutureWarning: The behavior of DataFrame.sum with axis=None is deprecated, in a future version this will reduce over both axes and return a scalar. To retain the old behavior, pass axis=0 (or do not pass axis)\n",
      "  return reduction(axis=axis, out=out, **passkwargs)\n"
     ]
    },
    {
     "data": {
      "text/plain": [
       "{'return': Ticker\n",
       " AAPL    44.477214\n",
       " AMD     32.407002\n",
       " KO      10.049685\n",
       " MS      37.570371\n",
       " MSFT    36.333657\n",
       " TSLA    95.208454\n",
       " TSM     46.346689\n",
       " dtype: float64,\n",
       " 'std': np.float64(0.2903365115438384)}"
      ]
     },
     "execution_count": 5,
     "metadata": {},
     "output_type": "execute_result"
    }
   ],
   "source": [
    "weights = np.array([1./len(log_returns.columns)] * len(log_returns.columns))\n",
    "\n",
    "create_portfolio(log_returns, weights, log_returns.cov())"
   ]
  },
  {
   "cell_type": "code",
   "execution_count": 6,
   "id": "b0b4ee76",
   "metadata": {},
   "outputs": [],
   "source": [
    "x_0 = np.array([0.001] * len(log_returns.columns))\n",
    "args = (log_returns.mean(), covariance_table)\n",
    "contraints = {\"type\": \"eq\", \"fun\": lambda x: np.sum(x) - 1}\n",
    "bound = (0,1)\n",
    "bounds = [bound for x in range(len(log_returns.columns))]"
   ]
  },
  {
   "cell_type": "code",
   "execution_count": 11,
   "id": "f9986fb4",
   "metadata": {},
   "outputs": [],
   "source": [
    "def risk_target(weights, returns, co_variance_table):\n",
    "    return create_portfolio(returns, weights, co_variance_table)[\"std\"]\n",
    "\n",
    "\n",
    "def return_target(weights, returns, co_variance_table):\n",
    "    return -create_portfolio(returns, weights, co_variance_table)[\"return\"]\n",
    "\n",
    "\n",
    "def sharpe_target(weights, returns, co_variance_table):\n",
    "    portfolio = create_portfolio(returns, weights, co_variance_table)\n",
    "    sharpe = (portfolio[\"return\"] - RISK_FREE) / (portfolio[\"std\"])\n",
    "    return -sharpe"
   ]
  },
  {
   "cell_type": "code",
   "execution_count": null,
   "id": "f2bc02c1",
   "metadata": {},
   "outputs": [],
   "source": [
    "lowest_risk = sp.minimize(risk_target, x_0, args=args, constraints=contraints, bounds=bounds)\n",
    "max_return = sp.minimize(return_target, x_0, args=args, constraints=contraints, bounds=bounds)\n",
    "max_sharpe = sp.minimize(sharpe_target, x_0, args=args, constraints=contraints, bounds=bounds)"
   ]
  },
  {
   "cell_type": "code",
   "execution_count": 17,
   "id": "c6613d0c",
   "metadata": {},
   "outputs": [
    {
     "data": {
      "text/plain": [
       "{'AAPL': np.float64(0.0179),\n",
       " 'AMD': np.float64(0.0),\n",
       " 'KO': np.float64(0.7679),\n",
       " 'MS': np.float64(0.0),\n",
       " 'MSFT': np.float64(0.0787),\n",
       " 'TSLA': np.float64(0.0),\n",
       " 'TSM': np.float64(0.1354)}"
      ]
     },
     "execution_count": 17,
     "metadata": {},
     "output_type": "execute_result"
    }
   ],
   "source": [
    "{x: round(y,4) for x,y in zip(log_returns.columns, lowest_risk.x)} "
   ]
  },
  {
   "cell_type": "code",
   "execution_count": 18,
   "id": "39305d2a",
   "metadata": {},
   "outputs": [
    {
     "data": {
      "text/plain": [
       "{'return': np.float64(0.0982980284711378),\n",
       " 'std': np.float64(0.7818239297986908)}"
      ]
     },
     "execution_count": 18,
     "metadata": {},
     "output_type": "execute_result"
    }
   ],
   "source": [
    "create_portfolio(log_returns.mean(), lowest_risk.x, covariance_table)"
   ]
  }
 ],
 "metadata": {
  "kernelspec": {
   "display_name": ".venv",
   "language": "python",
   "name": "python3"
  },
  "language_info": {
   "codemirror_mode": {
    "name": "ipython",
    "version": 3
   },
   "file_extension": ".py",
   "mimetype": "text/x-python",
   "name": "python",
   "nbconvert_exporter": "python",
   "pygments_lexer": "ipython3",
   "version": "3.13.7"
  }
 },
 "nbformat": 4,
 "nbformat_minor": 5
}
