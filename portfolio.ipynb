{
 "cells": [
  {
   "cell_type": "code",
   "execution_count": 87,
   "id": "4fb02551",
   "metadata": {},
   "outputs": [],
   "source": [
    "import pandas as pd\n",
    "from lib import create_portfolio\n",
    "import numpy as np\n",
    "import scipy.optimize as sp\n",
    "import matplotlib.pyplot as plt\n",
    "import scipy as si"
   ]
  },
  {
   "cell_type": "code",
   "execution_count": 2,
   "id": "e2547f65",
   "metadata": {},
   "outputs": [],
   "source": [
    "RISK_FREE = 0"
   ]
  },
  {
   "cell_type": "code",
   "execution_count": 3,
   "id": "ff67d6e5",
   "metadata": {},
   "outputs": [],
   "source": [
    "data = pd.read_csv(\"data.csv\", index_col=0, header=[0, 1])"
   ]
  },
  {
   "cell_type": "code",
   "execution_count": 4,
   "id": "87a4fa04",
   "metadata": {},
   "outputs": [],
   "source": [
    "# Using Daily Change in price\n",
    "log_returns = np.log(data[\"Close\"] / data[\"Close\"].shift(1))\n",
    "\n",
    "# Create Co-variance table\n",
    "covariance_table = log_returns.cov() * np.sqrt(252)"
   ]
  },
  {
   "cell_type": "code",
   "execution_count": 5,
   "id": "ae9f8d2c",
   "metadata": {},
   "outputs": [
    {
     "name": "stderr",
     "output_type": "stream",
     "text": [
      "c:\\Users\\olive\\Documents\\GitHub\\Modern-Portfolio-Theory\\.venv\\Lib\\site-packages\\numpy\\_core\\fromnumeric.py:84: FutureWarning: The behavior of DataFrame.sum with axis=None is deprecated, in a future version this will reduce over both axes and return a scalar. To retain the old behavior, pass axis=0 (or do not pass axis)\n",
      "  return reduction(axis=axis, out=out, **passkwargs)\n"
     ]
    },
    {
     "data": {
      "text/plain": [
       "(Ticker\n",
       " AAPL    44.477214\n",
       " AMD     32.407002\n",
       " KO      10.049685\n",
       " MS      37.570371\n",
       " MSFT    36.333657\n",
       " TSLA    95.208454\n",
       " TSM     46.346689\n",
       " dtype: float64,\n",
       " np.float64(0.2903365115438384))"
      ]
     },
     "execution_count": 5,
     "metadata": {},
     "output_type": "execute_result"
    }
   ],
   "source": [
    "weights = np.array([1./len(log_returns.columns)] * len(log_returns.columns))\n",
    "\n",
    "create_portfolio(log_returns, weights, log_returns.cov())"
   ]
  },
  {
   "cell_type": "code",
   "execution_count": 6,
   "id": "b0b4ee76",
   "metadata": {},
   "outputs": [],
   "source": [
    "x_0 = np.array([0.001] * len(log_returns.columns))\n",
    "args = (log_returns.mean(), covariance_table)\n",
    "constraints = {\"type\": \"eq\", \"fun\": lambda x: np.sum(x) - 1}\n",
    "bound = (0,1)\n",
    "bounds = [bound for x in range(len(log_returns.columns))]"
   ]
  },
  {
   "cell_type": "code",
   "execution_count": 7,
   "id": "df5e6134",
   "metadata": {},
   "outputs": [
    {
     "data": {
      "text/plain": [
       "(np.float64(0.24056728089733775), np.float64(1.1567827121718437))"
      ]
     },
     "execution_count": 7,
     "metadata": {},
     "output_type": "execute_result"
    }
   ],
   "source": [
    "create_portfolio(log_returns.mean(),np.array([1/7]*7), covariance_table)"
   ]
  },
  {
   "cell_type": "code",
   "execution_count": 8,
   "id": "f9986fb4",
   "metadata": {},
   "outputs": [],
   "source": [
    "def opt_min_risk(weights, returns, co_variance_table):\n",
    "    return create_portfolio(returns, weights, co_variance_table)[1]\n",
    "\n",
    "\n",
    "def opt_min_return(weights, returns, co_variance_table):\n",
    "    return create_portfolio(returns, weights, co_variance_table)[0]\n",
    "\n",
    "def opt_max_return(weights, returns, co_variance_table):\n",
    "    return -create_portfolio(returns, weights, co_variance_table)[0]\n",
    "\n",
    "\n",
    "def opt_max_sharpe(weights, returns, co_variance_table):\n",
    "    portfolio = create_portfolio(returns, weights, co_variance_table)\n",
    "    sharpe = (portfolio[0] - RISK_FREE) / (portfolio[1])\n",
    "    return -sharpe"
   ]
  },
  {
   "cell_type": "code",
   "execution_count": 17,
   "id": "f2bc02c1",
   "metadata": {},
   "outputs": [],
   "source": [
    "lowest_risk = sp.minimize(opt_min_risk, x_0, args=args, constraints=constraints, bounds=bounds)\n",
    "min_return = sp.minimize(opt_min_return, x_0, args=args, constraints=constraints, bounds=bounds)\n",
    "max_return = sp.minimize(opt_max_return, x_0, args=args, constraints=constraints, bounds=bounds)\n",
    "max_sharpe = sp.minimize(opt_max_sharpe, x_0, args=args, constraints=constraints, bounds=bounds)"
   ]
  },
  {
   "cell_type": "code",
   "execution_count": 18,
   "id": "c6613d0c",
   "metadata": {},
   "outputs": [
    {
     "data": {
      "text/plain": [
       "{'AAPL': np.float64(0.3905),\n",
       " 'AMD': np.float64(0.0),\n",
       " 'KO': np.float64(0.0),\n",
       " 'MS': np.float64(0.1511),\n",
       " 'MSFT': np.float64(0.0),\n",
       " 'TSLA': np.float64(0.2455),\n",
       " 'TSM': np.float64(0.2129)}"
      ]
     },
     "execution_count": 18,
     "metadata": {},
     "output_type": "execute_result"
    }
   ],
   "source": [
    "{x: round(y,4) for x,y in zip(log_returns.columns, max_sharpe.x)}"
   ]
  },
  {
   "cell_type": "code",
   "execution_count": 19,
   "id": "39305d2a",
   "metadata": {},
   "outputs": [
    {
     "data": {
      "text/plain": [
       "(np.float64(0.3134598277649494), np.float64(0.3305324167675851))"
      ]
     },
     "execution_count": 19,
     "metadata": {},
     "output_type": "execute_result"
    }
   ],
   "source": [
    "create_portfolio(log_returns.mean(), max_sharpe.x, covariance_table)"
   ]
  },
  {
   "cell_type": "code",
   "execution_count": 20,
   "id": "62b0c67b",
   "metadata": {},
   "outputs": [],
   "source": [
    "def efficient_optimisation(mean_returns, target_return, covariance_table, days=252):\n",
    "    \"\"\"\n",
    "    Calculates lowest risk for a given target return\n",
    "    \"\"\"\n",
    "    x_0 = np.array([0.01] * len(mean_returns))\n",
    "    args = (mean_returns, covariance_table)\n",
    "    bound = (0,1)\n",
    "    bounds = tuple([bound for _ in range(len(mean_returns))])\n",
    "\n",
    "    constraints = ({\"type\": \"eq\", \"fun\": lambda x: create_portfolio(mean_returns, x, covariance_table, days)[0] - target_return},\n",
    "                  {\"type\": \"eq\", \"fun\": lambda x: np.sum(x) - 1})\n",
    "    \n",
    "    result = sp.minimize(opt_min_risk, x_0, args, bounds=bounds, constraints=constraints)\n",
    "\n",
    "    return result"
   ]
  },
  {
   "cell_type": "code",
   "execution_count": 40,
   "id": "2eeb7d83",
   "metadata": {},
   "outputs": [],
   "source": [
    "mean_returns = log_returns.mean().values\n",
    "covariance_table = log_returns.cov().values\n",
    "\n",
    "# target_returns = np.linspace(create_portfolio(log_returns.mean(), lowest_risk[\"x\"], covariance_table)[0], create_portfolio(log_returns.mean(), max_sharpe[\"x\"], covariance_table)[0], 25) # Top half of efficient frontier\n",
    "target_returns = np.linspace(mean_returns.min() *252, mean_returns.max() *252, 25) # Includes bottom half of efficient frontier"
   ]
  },
  {
   "cell_type": "code",
   "execution_count": 41,
   "id": "64f78e18",
   "metadata": {},
   "outputs": [],
   "source": [
    "risk_min_list = []\n",
    "for target in target_returns:\n",
    "    res = efficient_optimisation(mean_returns, target, covariance_table)\n",
    "    if res.success:\n",
    "        risk_min_list.append(res.fun)\n"
   ]
  },
  {
   "cell_type": "code",
   "execution_count": null,
   "id": "747168ea",
   "metadata": {},
   "outputs": [
    {
     "data": {
      "text/plain": [
       "<matplotlib.collections.FillBetweenPolyCollection at 0x188cf18c2d0>"
      ]
     },
     "execution_count": 102,
     "metadata": {},
     "output_type": "execute_result"
    },
    {
     "data": {
      "image/png": "[encoded data removed]",
      "text/plain": [
       "<Figure size 640x480 with 1 Axes>"
      ]
     },
     "metadata": {},
     "output_type": "display_data"
    }
   ],
   "source": [
    "fig, ax = plt.subplots()\n",
    "\n",
    "# ax.plot(risk_min_list, target_returns)\n",
    "ax.scatter(np.sqrt(covariance_table.diagonal()) * np.sqrt(252), mean_returns * 252)\n",
    "\n",
    "ax.set_xlabel('Risk (Std Dev)')\n",
    "ax.set_ylabel('Return')\n",
    "\n",
    "for i, t in enumerate(log_returns.columns):\n",
    "    ax.text((np.sqrt(covariance_table.diagonal()) * np.sqrt(252))[i],mean_returns[i]*252, t,\n",
    "        horizontalalignment='left',\n",
    "        verticalalignment='bottom')\n",
    "\n",
    "\n",
    "points = np.column_stack([risk_min_list, target_returns])\n",
    "hull = si.spatial.ConvexHull(points) \n",
    "\n",
    "for simplex in hull.simplices:\n",
    "    ax.plot(points[simplex, 0], points[simplex, 1], 'r-', linewidth=1, alpha=1)\n",
    "\n",
    "ax.fill_between(risk_min_list,target_returns, target_returns.min(), alpha=0.2)"
   ]
  },
  {
   "cell_type": "code",
   "execution_count": null,
   "id": "c38d2478",
   "metadata": {},
   "outputs": [
    {
     "data": {
      "text/plain": [
       "<scipy.spatial._qhull.ConvexHull at 0x188c1733a80>"
      ]
     },
     "execution_count": 94,
     "metadata": {},
     "output_type": "execute_result"
    }
   ],
   "source": []
  }
 ],
 "metadata": {
  "kernelspec": {
   "display_name": ".venv",
   "language": "python",
   "name": "python3"
  },
  "language_info": {
   "codemirror_mode": {
    "name": "ipython",
    "version": 3
   },
   "file_extension": ".py",
   "mimetype": "text/x-python",
   "name": "python",
   "nbconvert_exporter": "python",
   "pygments_lexer": "ipython3",
   "version": "3.13.7"
  }
 },
 "nbformat": 4,
 "nbformat_minor": 5
}
